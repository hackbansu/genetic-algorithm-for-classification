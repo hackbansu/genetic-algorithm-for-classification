{
 "cells": [
  {
   "cell_type": "code",
   "execution_count": 1,
   "metadata": {},
   "outputs": [
    {
     "name": "stderr",
     "output_type": "stream",
     "text": [
      "/home/pawan/anaconda3/lib/python3.6/site-packages/sklearn/cross_validation.py:41: DeprecationWarning: This module was deprecated in version 0.18 in favor of the model_selection module into which all the refactored classes and functions are moved. Also note that the interface of the new CV iterators are different from that of this module. This module will be removed in 0.20.\n",
      "  \"This module will be removed in 0.20.\", DeprecationWarning)\n"
     ]
    }
   ],
   "source": [
    "from tpot import TPOTClassifier\n",
    "from sklearn.cross_validation import train_test_split\n",
    "import pandas as pd\n",
    "import numpy as np"
   ]
  },
  {
   "cell_type": "code",
   "execution_count": 4,
   "metadata": {},
   "outputs": [
    {
     "data": {
      "text/html": [
       "<div>\n",
       "<style scoped>\n",
       "    .dataframe tbody tr th:only-of-type {\n",
       "        vertical-align: middle;\n",
       "    }\n",
       "\n",
       "    .dataframe tbody tr th {\n",
       "        vertical-align: top;\n",
       "    }\n",
       "\n",
       "    .dataframe thead th {\n",
       "        text-align: right;\n",
       "    }\n",
       "</style>\n",
       "<table border=\"1\" class=\"dataframe\">\n",
       "  <thead>\n",
       "    <tr style=\"text-align: right;\">\n",
       "      <th></th>\n",
       "      <th>Flength</th>\n",
       "      <th>Fwidth</th>\n",
       "      <th>Fsize</th>\n",
       "      <th>Fconc</th>\n",
       "      <th>Fconc1</th>\n",
       "      <th>Fasym</th>\n",
       "      <th>Fm3long</th>\n",
       "      <th>Fm3trans</th>\n",
       "      <th>Falpha</th>\n",
       "      <th>Fdist</th>\n",
       "      <th>Class</th>\n",
       "    </tr>\n",
       "  </thead>\n",
       "  <tbody>\n",
       "    <tr>\n",
       "      <th>0</th>\n",
       "      <td>28.7967</td>\n",
       "      <td>16.0021</td>\n",
       "      <td>2.6449</td>\n",
       "      <td>0.3918</td>\n",
       "      <td>0.1982</td>\n",
       "      <td>27.7004</td>\n",
       "      <td>22.0110</td>\n",
       "      <td>-8.2027</td>\n",
       "      <td>40.0920</td>\n",
       "      <td>81.8828</td>\n",
       "      <td>g</td>\n",
       "    </tr>\n",
       "    <tr>\n",
       "      <th>1</th>\n",
       "      <td>31.6036</td>\n",
       "      <td>11.7235</td>\n",
       "      <td>2.5185</td>\n",
       "      <td>0.5303</td>\n",
       "      <td>0.3773</td>\n",
       "      <td>26.2722</td>\n",
       "      <td>23.8238</td>\n",
       "      <td>-9.9574</td>\n",
       "      <td>6.3609</td>\n",
       "      <td>205.2610</td>\n",
       "      <td>g</td>\n",
       "    </tr>\n",
       "    <tr>\n",
       "      <th>2</th>\n",
       "      <td>162.0520</td>\n",
       "      <td>136.0310</td>\n",
       "      <td>4.0612</td>\n",
       "      <td>0.0374</td>\n",
       "      <td>0.0187</td>\n",
       "      <td>116.7410</td>\n",
       "      <td>-64.8580</td>\n",
       "      <td>-45.2160</td>\n",
       "      <td>76.9600</td>\n",
       "      <td>256.7880</td>\n",
       "      <td>g</td>\n",
       "    </tr>\n",
       "    <tr>\n",
       "      <th>3</th>\n",
       "      <td>23.8172</td>\n",
       "      <td>9.5728</td>\n",
       "      <td>2.3385</td>\n",
       "      <td>0.6147</td>\n",
       "      <td>0.3922</td>\n",
       "      <td>27.2107</td>\n",
       "      <td>-6.4633</td>\n",
       "      <td>-7.1513</td>\n",
       "      <td>10.4490</td>\n",
       "      <td>116.7370</td>\n",
       "      <td>g</td>\n",
       "    </tr>\n",
       "    <tr>\n",
       "      <th>4</th>\n",
       "      <td>75.1362</td>\n",
       "      <td>30.9205</td>\n",
       "      <td>3.1611</td>\n",
       "      <td>0.3168</td>\n",
       "      <td>0.1832</td>\n",
       "      <td>-5.5277</td>\n",
       "      <td>28.5525</td>\n",
       "      <td>21.8393</td>\n",
       "      <td>4.6480</td>\n",
       "      <td>356.4620</td>\n",
       "      <td>g</td>\n",
       "    </tr>\n",
       "  </tbody>\n",
       "</table>\n",
       "</div>"
      ],
      "text/plain": [
       "    Flength    Fwidth   Fsize   Fconc  Fconc1     Fasym  Fm3long  Fm3trans  \\\n",
       "0   28.7967   16.0021  2.6449  0.3918  0.1982   27.7004  22.0110   -8.2027   \n",
       "1   31.6036   11.7235  2.5185  0.5303  0.3773   26.2722  23.8238   -9.9574   \n",
       "2  162.0520  136.0310  4.0612  0.0374  0.0187  116.7410 -64.8580  -45.2160   \n",
       "3   23.8172    9.5728  2.3385  0.6147  0.3922   27.2107  -6.4633   -7.1513   \n",
       "4   75.1362   30.9205  3.1611  0.3168  0.1832   -5.5277  28.5525   21.8393   \n",
       "\n",
       "    Falpha     Fdist Class  \n",
       "0  40.0920   81.8828     g  \n",
       "1   6.3609  205.2610     g  \n",
       "2  76.9600  256.7880     g  \n",
       "3  10.4490  116.7370     g  \n",
       "4   4.6480  356.4620     g  "
      ]
     },
     "execution_count": 4,
     "metadata": {},
     "output_type": "execute_result"
    }
   ],
   "source": [
    "# Load the data\n",
    "telescope = pd.read_csv(\"MAGIC Gamma Telescope Data.csv\");\n",
    "telescope.head()"
   ]
  },
  {
   "cell_type": "code",
   "execution_count": 6,
   "metadata": {},
   "outputs": [
    {
     "data": {
      "text/html": [
       "<div>\n",
       "<style scoped>\n",
       "    .dataframe tbody tr th:only-of-type {\n",
       "        vertical-align: middle;\n",
       "    }\n",
       "\n",
       "    .dataframe tbody tr th {\n",
       "        vertical-align: top;\n",
       "    }\n",
       "\n",
       "    .dataframe thead th {\n",
       "        text-align: right;\n",
       "    }\n",
       "</style>\n",
       "<table border=\"1\" class=\"dataframe\">\n",
       "  <thead>\n",
       "    <tr style=\"text-align: right;\">\n",
       "      <th></th>\n",
       "      <th>Flength</th>\n",
       "      <th>Fwidth</th>\n",
       "      <th>Fsize</th>\n",
       "      <th>Fconc</th>\n",
       "      <th>Fconc1</th>\n",
       "      <th>Fasym</th>\n",
       "      <th>Fm3long</th>\n",
       "      <th>Fm3trans</th>\n",
       "      <th>Falpha</th>\n",
       "      <th>Fdist</th>\n",
       "      <th>Class</th>\n",
       "    </tr>\n",
       "  </thead>\n",
       "  <tbody>\n",
       "    <tr>\n",
       "      <th>2186</th>\n",
       "      <td>12.9432</td>\n",
       "      <td>11.2194</td>\n",
       "      <td>2.0737</td>\n",
       "      <td>0.7426</td>\n",
       "      <td>0.4262</td>\n",
       "      <td>14.6779</td>\n",
       "      <td>-7.1385</td>\n",
       "      <td>10.3084</td>\n",
       "      <td>89.7459</td>\n",
       "      <td>155.3690</td>\n",
       "      <td>g</td>\n",
       "    </tr>\n",
       "    <tr>\n",
       "      <th>16926</th>\n",
       "      <td>149.9980</td>\n",
       "      <td>20.3267</td>\n",
       "      <td>2.7850</td>\n",
       "      <td>0.4167</td>\n",
       "      <td>0.2535</td>\n",
       "      <td>128.7400</td>\n",
       "      <td>96.4835</td>\n",
       "      <td>-14.2222</td>\n",
       "      <td>12.2700</td>\n",
       "      <td>73.9120</td>\n",
       "      <td>h</td>\n",
       "    </tr>\n",
       "    <tr>\n",
       "      <th>12068</th>\n",
       "      <td>43.6997</td>\n",
       "      <td>24.2821</td>\n",
       "      <td>3.2262</td>\n",
       "      <td>0.2245</td>\n",
       "      <td>0.1363</td>\n",
       "      <td>41.3657</td>\n",
       "      <td>29.0070</td>\n",
       "      <td>17.5175</td>\n",
       "      <td>12.8480</td>\n",
       "      <td>191.5870</td>\n",
       "      <td>g</td>\n",
       "    </tr>\n",
       "    <tr>\n",
       "      <th>18815</th>\n",
       "      <td>19.6388</td>\n",
       "      <td>9.8178</td>\n",
       "      <td>2.2068</td>\n",
       "      <td>0.5714</td>\n",
       "      <td>0.2888</td>\n",
       "      <td>25.8192</td>\n",
       "      <td>4.2684</td>\n",
       "      <td>-2.2875</td>\n",
       "      <td>13.0905</td>\n",
       "      <td>133.2080</td>\n",
       "      <td>h</td>\n",
       "    </tr>\n",
       "    <tr>\n",
       "      <th>15741</th>\n",
       "      <td>36.3026</td>\n",
       "      <td>14.7726</td>\n",
       "      <td>2.8010</td>\n",
       "      <td>0.3897</td>\n",
       "      <td>0.1656</td>\n",
       "      <td>-17.0835</td>\n",
       "      <td>-23.3102</td>\n",
       "      <td>-16.0965</td>\n",
       "      <td>69.2729</td>\n",
       "      <td>270.5055</td>\n",
       "      <td>h</td>\n",
       "    </tr>\n",
       "  </tbody>\n",
       "</table>\n",
       "</div>"
      ],
      "text/plain": [
       "        Flength   Fwidth   Fsize   Fconc  Fconc1     Fasym  Fm3long  Fm3trans  \\\n",
       "2186    12.9432  11.2194  2.0737  0.7426  0.4262   14.6779  -7.1385   10.3084   \n",
       "16926  149.9980  20.3267  2.7850  0.4167  0.2535  128.7400  96.4835  -14.2222   \n",
       "12068   43.6997  24.2821  3.2262  0.2245  0.1363   41.3657  29.0070   17.5175   \n",
       "18815   19.6388   9.8178  2.2068  0.5714  0.2888   25.8192   4.2684   -2.2875   \n",
       "15741   36.3026  14.7726  2.8010  0.3897  0.1656  -17.0835 -23.3102  -16.0965   \n",
       "\n",
       "        Falpha     Fdist Class  \n",
       "2186   89.7459  155.3690     g  \n",
       "16926  12.2700   73.9120     h  \n",
       "12068  12.8480  191.5870     g  \n",
       "18815  13.0905  133.2080     h  \n",
       "15741  69.2729  270.5055     h  "
      ]
     },
     "execution_count": 6,
     "metadata": {},
     "output_type": "execute_result"
    }
   ],
   "source": [
    "telescope_shuffle = telescope.iloc[np.random.permutation(len(telescope))]\n",
    "telescope_shuffle.head()"
   ]
  },
  {
   "cell_type": "code",
   "execution_count": 8,
   "metadata": {},
   "outputs": [
    {
     "data": {
      "text/html": [
       "<div>\n",
       "<style scoped>\n",
       "    .dataframe tbody tr th:only-of-type {\n",
       "        vertical-align: middle;\n",
       "    }\n",
       "\n",
       "    .dataframe tbody tr th {\n",
       "        vertical-align: top;\n",
       "    }\n",
       "\n",
       "    .dataframe thead th {\n",
       "        text-align: right;\n",
       "    }\n",
       "</style>\n",
       "<table border=\"1\" class=\"dataframe\">\n",
       "  <thead>\n",
       "    <tr style=\"text-align: right;\">\n",
       "      <th></th>\n",
       "      <th>Flength</th>\n",
       "      <th>Fwidth</th>\n",
       "      <th>Fsize</th>\n",
       "      <th>Fconc</th>\n",
       "      <th>Fconc1</th>\n",
       "      <th>Fasym</th>\n",
       "      <th>Fm3long</th>\n",
       "      <th>Fm3trans</th>\n",
       "      <th>Falpha</th>\n",
       "      <th>Fdist</th>\n",
       "      <th>Class</th>\n",
       "    </tr>\n",
       "  </thead>\n",
       "  <tbody>\n",
       "    <tr>\n",
       "      <th>0</th>\n",
       "      <td>12.9432</td>\n",
       "      <td>11.2194</td>\n",
       "      <td>2.0737</td>\n",
       "      <td>0.7426</td>\n",
       "      <td>0.4262</td>\n",
       "      <td>14.6779</td>\n",
       "      <td>-7.1385</td>\n",
       "      <td>10.3084</td>\n",
       "      <td>89.7459</td>\n",
       "      <td>155.3690</td>\n",
       "      <td>g</td>\n",
       "    </tr>\n",
       "    <tr>\n",
       "      <th>1</th>\n",
       "      <td>149.9980</td>\n",
       "      <td>20.3267</td>\n",
       "      <td>2.7850</td>\n",
       "      <td>0.4167</td>\n",
       "      <td>0.2535</td>\n",
       "      <td>128.7400</td>\n",
       "      <td>96.4835</td>\n",
       "      <td>-14.2222</td>\n",
       "      <td>12.2700</td>\n",
       "      <td>73.9120</td>\n",
       "      <td>h</td>\n",
       "    </tr>\n",
       "    <tr>\n",
       "      <th>2</th>\n",
       "      <td>43.6997</td>\n",
       "      <td>24.2821</td>\n",
       "      <td>3.2262</td>\n",
       "      <td>0.2245</td>\n",
       "      <td>0.1363</td>\n",
       "      <td>41.3657</td>\n",
       "      <td>29.0070</td>\n",
       "      <td>17.5175</td>\n",
       "      <td>12.8480</td>\n",
       "      <td>191.5870</td>\n",
       "      <td>g</td>\n",
       "    </tr>\n",
       "    <tr>\n",
       "      <th>3</th>\n",
       "      <td>19.6388</td>\n",
       "      <td>9.8178</td>\n",
       "      <td>2.2068</td>\n",
       "      <td>0.5714</td>\n",
       "      <td>0.2888</td>\n",
       "      <td>25.8192</td>\n",
       "      <td>4.2684</td>\n",
       "      <td>-2.2875</td>\n",
       "      <td>13.0905</td>\n",
       "      <td>133.2080</td>\n",
       "      <td>h</td>\n",
       "    </tr>\n",
       "    <tr>\n",
       "      <th>4</th>\n",
       "      <td>36.3026</td>\n",
       "      <td>14.7726</td>\n",
       "      <td>2.8010</td>\n",
       "      <td>0.3897</td>\n",
       "      <td>0.1656</td>\n",
       "      <td>-17.0835</td>\n",
       "      <td>-23.3102</td>\n",
       "      <td>-16.0965</td>\n",
       "      <td>69.2729</td>\n",
       "      <td>270.5055</td>\n",
       "      <td>h</td>\n",
       "    </tr>\n",
       "  </tbody>\n",
       "</table>\n",
       "</div>"
      ],
      "text/plain": [
       "    Flength   Fwidth   Fsize   Fconc  Fconc1     Fasym  Fm3long  Fm3trans  \\\n",
       "0   12.9432  11.2194  2.0737  0.7426  0.4262   14.6779  -7.1385   10.3084   \n",
       "1  149.9980  20.3267  2.7850  0.4167  0.2535  128.7400  96.4835  -14.2222   \n",
       "2   43.6997  24.2821  3.2262  0.2245  0.1363   41.3657  29.0070   17.5175   \n",
       "3   19.6388   9.8178  2.2068  0.5714  0.2888   25.8192   4.2684   -2.2875   \n",
       "4   36.3026  14.7726  2.8010  0.3897  0.1656  -17.0835 -23.3102  -16.0965   \n",
       "\n",
       "    Falpha     Fdist Class  \n",
       "0  89.7459  155.3690     g  \n",
       "1  12.2700   73.9120     h  \n",
       "2  12.8480  191.5870     g  \n",
       "3  13.0905  133.2080     h  \n",
       "4  69.2729  270.5055     h  "
      ]
     },
     "execution_count": 8,
     "metadata": {},
     "output_type": "execute_result"
    }
   ],
   "source": [
    "tele = telescope_shuffle.reset_index(drop=True)\n",
    "tele.head()"
   ]
  },
  {
   "cell_type": "markdown",
   "metadata": {},
   "source": [
    "# Pre-Processing Data"
   ]
  },
  {
   "cell_type": "code",
   "execution_count": 12,
   "metadata": {},
   "outputs": [
    {
     "data": {
      "text/plain": [
       "Flength     float64\n",
       "Fwidth      float64\n",
       "Fsize       float64\n",
       "Fconc       float64\n",
       "Fconc1      float64\n",
       "Fasym       float64\n",
       "Fm3long     float64\n",
       "Fm3trans    float64\n",
       "Falpha      float64\n",
       "Fdist       float64\n",
       "Class        object\n",
       "dtype: object"
      ]
     },
     "execution_count": 12,
     "metadata": {},
     "output_type": "execute_result"
    }
   ],
   "source": [
    "tele.dtypes"
   ]
  },
  {
   "cell_type": "code",
   "execution_count": 13,
   "metadata": {},
   "outputs": [
    {
     "name": "stdout",
     "output_type": "stream",
     "text": [
      "Levels for category 'Class': ['g' 'h']\n"
     ]
    }
   ],
   "source": [
    "for cat in [\"Class\"]:\n",
    "    print(\"Levels for category '{0}': {1}\".format(cat, tele[cat].unique()))"
   ]
  },
  {
   "cell_type": "code",
   "execution_count": 14,
   "metadata": {
    "collapsed": true
   },
   "outputs": [],
   "source": [
    "tele[\"Class\"] = tele[\"Class\"].map({'g':0, 'h':1})"
   ]
  },
  {
   "cell_type": "code",
   "execution_count": 20,
   "metadata": {},
   "outputs": [
    {
     "data": {
      "text/plain": [
       "Flength     False\n",
       "Fwidth      False\n",
       "Fsize       False\n",
       "Fconc       False\n",
       "Fconc1      False\n",
       "Fasym       False\n",
       "Fm3long     False\n",
       "Fm3trans    False\n",
       "Falpha      False\n",
       "Fdist       False\n",
       "Class       False\n",
       "dtype: bool"
      ]
     },
     "execution_count": 20,
     "metadata": {},
     "output_type": "execute_result"
    }
   ],
   "source": [
    "tele = tele.fillna(-999)\n",
    "pd.isnull(tele).any()"
   ]
  },
  {
   "cell_type": "code",
   "execution_count": 21,
   "metadata": {},
   "outputs": [
    {
     "data": {
      "text/plain": [
       "(19020, 11)"
      ]
     },
     "execution_count": 21,
     "metadata": {},
     "output_type": "execute_result"
    }
   ],
   "source": [
    "tele.shape"
   ]
  },
  {
   "cell_type": "code",
   "execution_count": 22,
   "metadata": {
    "collapsed": true
   },
   "outputs": [],
   "source": [
    "tele_class = tele[\"Class\"].values"
   ]
  },
  {
   "cell_type": "markdown",
   "metadata": {},
   "source": [
    "# Data Analysis using TPOT"
   ]
  },
  {
   "cell_type": "code",
   "execution_count": null,
   "metadata": {
    "collapsed": true
   },
   "outputs": [],
   "source": [
    "training_indices, validation_indices = training_indices, test_indices = train_test_split(tele.index, stratify = teleclass, )"
   ]
  },
  {
   "cell_type": "code",
   "execution_count": null,
   "metadata": {
    "collapsed": true
   },
   "outputs": [],
   "source": []
  }
 ],
 "metadata": {
  "kernelspec": {
   "display_name": "Python 3",
   "language": "python",
   "name": "python3"
  },
  "language_info": {
   "codemirror_mode": {
    "name": "ipython",
    "version": 3
   },
   "file_extension": ".py",
   "mimetype": "text/x-python",
   "name": "python",
   "nbconvert_exporter": "python",
   "pygments_lexer": "ipython3",
   "version": "3.6.4"
  }
 },
 "nbformat": 4,
 "nbformat_minor": 2
}
